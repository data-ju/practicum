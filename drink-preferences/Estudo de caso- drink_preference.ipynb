{
 "cells": [
  {
   "attachments": {},
   "cell_type": "markdown",
   "metadata": {},
   "source": [
    "# Estudo de caso: Preferências de drinks\n",
    "\n",
    "O conjunto de dados deste estudo de caso vem de uma pesquisa realizada com adultos maiores de 18 anos. O estudo contém medidas biológicas (idade, peso, altura) e preferências de drinks (alcoólicos e não-alcoólicos). O objetivo é realizar o pré-processamento dos dados e finalizar com uma base limpa e preparada para análise em si."
   ]
  },
  {
   "cell_type": "markdown",
   "metadata": {},
   "source": [
    "As colunas são:\n",
    "\n",
    "- `'resp_id'` (número de identificação que identifica cada pessoa de forma única)\n",
    "\n",
    "- `'age'` (idade)\n",
    "\n",
    "- `'gender'` ('Male' ou 'Female')\n",
    "\n",
    "- `'height'` (em polegadas)\n",
    "\n",
    "- `'weight'` (em libras)\n",
    "\n",
    "- `'nonalcoholic_drink'` (bebida não-alcoólica favorita)\n",
    "\n",
    "- `'alcoholic_drink'` (bebida alcoólica favorita)\n",
    "\n",
    "Vamos lá!"
   ]
  },
  {
   "cell_type": "code",
   "execution_count": 1,
   "metadata": {
    "scrolled": true
   },
   "outputs": [
    {
     "name": "stdout",
     "output_type": "stream",
     "text": [
      "   resp_id   age  gender  height  weight nonalcoholic_drink alcoholic_drink\n",
      "0     1001  19.0    Male     NaN     NaN             Coffee             NaN\n",
      "1     1002   NaN  Female   64.50  128.70              Water          Liquor\n",
      "2     1003  21.0    Male   71.47  182.95             Coffee            Beer\n",
      "3     1004  32.0  Female   57.30  103.40          Green Tea            Wine\n",
      "4     1005  32.0  Female   53.80  138.40          Black Tea          Liquor\n",
      "5     1006  20.0    Male   73.38  204.59              Pepsi             NaN\n",
      "6     1007  20.0    Male   70.46  225.25             Coffee             NaN\n",
      "7     1008  32.0  Female   54.10  157.80          Black Tea          Liquor\n",
      "8     1009  22.0    Male     NaN  197.00             Coffee          Liquor\n",
      "9     1009  22.0    Male     NaN  197.00             Coffee          Liquor\n",
      "\n",
      "<class 'pandas.core.frame.DataFrame'>\n",
      "RangeIndex: 300 entries, 0 to 299\n",
      "Data columns (total 7 columns):\n",
      " #   Column              Non-Null Count  Dtype  \n",
      "---  ------              --------------  -----  \n",
      " 0   resp_id             300 non-null    int64  \n",
      " 1   age                 264 non-null    float64\n",
      " 2   gender              300 non-null    object \n",
      " 3   height              280 non-null    float64\n",
      " 4   weight              285 non-null    float64\n",
      " 5   nonalcoholic_drink  299 non-null    object \n",
      " 6   alcoholic_drink     196 non-null    object \n",
      "dtypes: float64(3), int64(1), object(3)\n",
      "memory usage: 16.5+ KB\n"
     ]
    }
   ],
   "source": [
    "#Importando a biblioteca Pandas\n",
    "import pandas as pd\n",
    "\n",
    "#Lendo a base de dados\n",
    "drink_preferences = pd.read_csv('/datasets/drink_preferences.csv')\n",
    "\n",
    "#Imprimindo as 10 primeiras linhas da base de dados\n",
    "print(drink_preferences.head(10))\n",
    "\n",
    "#Criando um espaço entre as informações\n",
    "print()\n",
    "\n",
    "#Gerando as informações gerais dos dados\n",
    "drink_preferences.info()"
   ]
  },
  {
   "cell_type": "markdown",
   "metadata": {},
   "source": [
    "## Pré-processamento de dados\n",
    "\n",
    "Observando os dados, nota-se inicialmente que há tanto valores ausentes quanto valores duplicados. \n",
    "\n",
    "Os valores ausentes são notáveis pela diferença de valores não-nulos nas informações da base de dados, já quanto aos valores duplicados, nota-se que as linhas de índice 8 e 9 estão duplicadas.\n",
    "\n",
    "Iniciaremos com o tratamento dos dados duplicados."
   ]
  },
  {
   "cell_type": "markdown",
   "metadata": {},
   "source": [
    "### Valores duplicados \n",
    "\n",
    "Primeiro, analisaremos os valores duplicados e qual será a melhor forma de tratamento.\n"
   ]
  },
  {
   "cell_type": "code",
   "execution_count": 2,
   "metadata": {
    "scrolled": true
   },
   "outputs": [
    {
     "data": {
      "text/html": [
       "<div>\n",
       "<style scoped>\n",
       "    .dataframe tbody tr th:only-of-type {\n",
       "        vertical-align: middle;\n",
       "    }\n",
       "\n",
       "    .dataframe tbody tr th {\n",
       "        vertical-align: top;\n",
       "    }\n",
       "\n",
       "    .dataframe thead th {\n",
       "        text-align: right;\n",
       "    }\n",
       "</style>\n",
       "<table border=\"1\" class=\"dataframe\">\n",
       "  <thead>\n",
       "    <tr style=\"text-align: right;\">\n",
       "      <th></th>\n",
       "      <th>resp_id</th>\n",
       "      <th>age</th>\n",
       "      <th>gender</th>\n",
       "      <th>height</th>\n",
       "      <th>weight</th>\n",
       "      <th>nonalcoholic_drink</th>\n",
       "      <th>alcoholic_drink</th>\n",
       "    </tr>\n",
       "  </thead>\n",
       "  <tbody>\n",
       "    <tr>\n",
       "      <th>9</th>\n",
       "      <td>1009</td>\n",
       "      <td>22.0</td>\n",
       "      <td>Male</td>\n",
       "      <td>NaN</td>\n",
       "      <td>197.00</td>\n",
       "      <td>Coffee</td>\n",
       "      <td>Liquor</td>\n",
       "    </tr>\n",
       "    <tr>\n",
       "      <th>102</th>\n",
       "      <td>1101</td>\n",
       "      <td>29.0</td>\n",
       "      <td>Female</td>\n",
       "      <td>60.80</td>\n",
       "      <td>137.30</td>\n",
       "      <td>Pepsi</td>\n",
       "      <td>None</td>\n",
       "    </tr>\n",
       "    <tr>\n",
       "      <th>237</th>\n",
       "      <td>1238</td>\n",
       "      <td>33.0</td>\n",
       "      <td>Male</td>\n",
       "      <td>66.18</td>\n",
       "      <td>197.34</td>\n",
       "      <td>Apple Juice</td>\n",
       "      <td>NaN</td>\n",
       "    </tr>\n",
       "  </tbody>\n",
       "</table>\n",
       "</div>"
      ],
      "text/plain": [
       "     resp_id   age  gender  height  weight nonalcoholic_drink alcoholic_drink\n",
       "9       1009  22.0    Male     NaN  197.00             Coffee          Liquor\n",
       "102     1101  29.0  Female   60.80  137.30              Pepsi            None\n",
       "237     1238  33.0    Male   66.18  197.34        Apple Juice             NaN"
      ]
     },
     "execution_count": 2,
     "metadata": {},
     "output_type": "execute_result"
    }
   ],
   "source": [
    "# Analisando as duplicatas a partir do filtro de números de identidade duplicados\n",
    "drink_preferences[drink_preferences.duplicated(subset= 'resp_id')]"
   ]
  },
  {
   "cell_type": "markdown",
   "metadata": {},
   "source": [
    "Com esse primeiro código, notamos que há três entrevistados que aparecem com as informações duplicadas na base de dados. Dessa forma, é hora de começar o tratamento dos valores."
   ]
  },
  {
   "cell_type": "code",
   "execution_count": 3,
   "metadata": {},
   "outputs": [
    {
     "data": {
      "text/html": [
       "<div>\n",
       "<style scoped>\n",
       "    .dataframe tbody tr th:only-of-type {\n",
       "        vertical-align: middle;\n",
       "    }\n",
       "\n",
       "    .dataframe tbody tr th {\n",
       "        vertical-align: top;\n",
       "    }\n",
       "\n",
       "    .dataframe thead th {\n",
       "        text-align: right;\n",
       "    }\n",
       "</style>\n",
       "<table border=\"1\" class=\"dataframe\">\n",
       "  <thead>\n",
       "    <tr style=\"text-align: right;\">\n",
       "      <th></th>\n",
       "      <th>resp_id</th>\n",
       "      <th>age</th>\n",
       "      <th>gender</th>\n",
       "      <th>height</th>\n",
       "      <th>weight</th>\n",
       "      <th>nonalcoholic_drink</th>\n",
       "      <th>alcoholic_drink</th>\n",
       "    </tr>\n",
       "  </thead>\n",
       "  <tbody>\n",
       "    <tr>\n",
       "      <th>237</th>\n",
       "      <td>1238</td>\n",
       "      <td>33.0</td>\n",
       "      <td>Male</td>\n",
       "      <td>66.18</td>\n",
       "      <td>197.34</td>\n",
       "      <td>Apple Juice</td>\n",
       "      <td>NaN</td>\n",
       "    </tr>\n",
       "  </tbody>\n",
       "</table>\n",
       "</div>"
      ],
      "text/plain": [
       "     resp_id   age gender  height  weight nonalcoholic_drink alcoholic_drink\n",
       "237     1238  33.0   Male   66.18  197.34        Apple Juice             NaN"
      ]
     },
     "execution_count": 3,
     "metadata": {},
     "output_type": "execute_result"
    }
   ],
   "source": [
    "# Testando o primeiro método: drop_duplicates()\n",
    "drink_preferences= drink_preferences.drop_duplicates()\n",
    "\n",
    "# Esse código vai verificar o resultado\n",
    "drink_preferences[drink_preferences.duplicated(subset='resp_id')]"
   ]
  },
  {
   "cell_type": "markdown",
   "metadata": {},
   "source": [
    "Hum, isso é interessante! \n",
    "Retiramos as duplicatas com o método drop_duplicates(), porém, ainda sobrou uma. Isso significa que é necessário um maior cuidado com essa linha de dados, que deve ser analisada separadamente."
   ]
  },
  {
   "cell_type": "code",
   "execution_count": 4,
   "metadata": {},
   "outputs": [
    {
     "data": {
      "text/html": [
       "<div>\n",
       "<style scoped>\n",
       "    .dataframe tbody tr th:only-of-type {\n",
       "        vertical-align: middle;\n",
       "    }\n",
       "\n",
       "    .dataframe tbody tr th {\n",
       "        vertical-align: top;\n",
       "    }\n",
       "\n",
       "    .dataframe thead th {\n",
       "        text-align: right;\n",
       "    }\n",
       "</style>\n",
       "<table border=\"1\" class=\"dataframe\">\n",
       "  <thead>\n",
       "    <tr style=\"text-align: right;\">\n",
       "      <th></th>\n",
       "      <th>resp_id</th>\n",
       "      <th>age</th>\n",
       "      <th>gender</th>\n",
       "      <th>height</th>\n",
       "      <th>weight</th>\n",
       "      <th>nonalcoholic_drink</th>\n",
       "      <th>alcoholic_drink</th>\n",
       "    </tr>\n",
       "  </thead>\n",
       "  <tbody>\n",
       "    <tr>\n",
       "      <th>236</th>\n",
       "      <td>1238</td>\n",
       "      <td>33.0</td>\n",
       "      <td>Male</td>\n",
       "      <td>66.18</td>\n",
       "      <td>197.34</td>\n",
       "      <td>NaN</td>\n",
       "      <td>Liquor</td>\n",
       "    </tr>\n",
       "    <tr>\n",
       "      <th>237</th>\n",
       "      <td>1238</td>\n",
       "      <td>33.0</td>\n",
       "      <td>Male</td>\n",
       "      <td>66.18</td>\n",
       "      <td>197.34</td>\n",
       "      <td>Apple Juice</td>\n",
       "      <td>NaN</td>\n",
       "    </tr>\n",
       "  </tbody>\n",
       "</table>\n",
       "</div>"
      ],
      "text/plain": [
       "     resp_id   age gender  height  weight nonalcoholic_drink alcoholic_drink\n",
       "236     1238  33.0   Male   66.18  197.34                NaN          Liquor\n",
       "237     1238  33.0   Male   66.18  197.34        Apple Juice             NaN"
      ]
     },
     "execution_count": 4,
     "metadata": {},
     "output_type": "execute_result"
    }
   ],
   "source": [
    "#Analisando a linha duplicada remanescente\n",
    "drink_preferences[drink_preferences['resp_id'] == 1238]"
   ]
  },
  {
   "cell_type": "markdown",
   "metadata": {},
   "source": [
    "Com o código anterior, foi possível notar que as linhas de índice 236 e 237 não são exatamente iguais. \n",
    "\n",
    "Enquanto a primeira possui o valor `nonalcoholic_drink` como Nulo, a segunda apresenta como nulo o valor de `alcoholic_drink`. \n",
    "\n",
    "Os dados, dessa forma, devem ter sido divididos em duas linhas durante a exportação do conjunto de dados.\n",
    "\n",
    "Agora que sabemos a razão dessa divergência, podemos condensar essas informações em apenas uma linha, retirando efetivamente, dessa forma, todas as duplicatas da base de dados."
   ]
  },
  {
   "cell_type": "code",
   "execution_count": 5,
   "metadata": {},
   "outputs": [
    {
     "name": "stdout",
     "output_type": "stream",
     "text": [
      "     resp_id   age gender  height  weight nonalcoholic_drink alcoholic_drink\n",
      "236     1238  33.0   Male   66.18  197.34        Apple Juice          Liquor\n",
      "\n"
     ]
    },
    {
     "data": {
      "text/html": [
       "<div>\n",
       "<style scoped>\n",
       "    .dataframe tbody tr th:only-of-type {\n",
       "        vertical-align: middle;\n",
       "    }\n",
       "\n",
       "    .dataframe tbody tr th {\n",
       "        vertical-align: top;\n",
       "    }\n",
       "\n",
       "    .dataframe thead th {\n",
       "        text-align: right;\n",
       "    }\n",
       "</style>\n",
       "<table border=\"1\" class=\"dataframe\">\n",
       "  <thead>\n",
       "    <tr style=\"text-align: right;\">\n",
       "      <th></th>\n",
       "      <th>resp_id</th>\n",
       "      <th>age</th>\n",
       "      <th>gender</th>\n",
       "      <th>height</th>\n",
       "      <th>weight</th>\n",
       "      <th>nonalcoholic_drink</th>\n",
       "      <th>alcoholic_drink</th>\n",
       "    </tr>\n",
       "  </thead>\n",
       "  <tbody>\n",
       "  </tbody>\n",
       "</table>\n",
       "</div>"
      ],
      "text/plain": [
       "Empty DataFrame\n",
       "Columns: [resp_id, age, gender, height, weight, nonalcoholic_drink, alcoholic_drink]\n",
       "Index: []"
      ]
     },
     "execution_count": 5,
     "metadata": {},
     "output_type": "execute_result"
    }
   ],
   "source": [
    "# Preenchendo os valores nulos com as informações de ambas as linhas com o método .loc()\n",
    "drink_preferences.loc[236,'nonalcoholic_drink'] = 'Apple Juice'\n",
    "drink_preferences.loc[237,'alcoholic_drink'] = 'Liquor'\n",
    "\n",
    "#Excluindo todas as linhas duplicadas\n",
    "drink_preferences= drink_preferences.drop_duplicates()\n",
    "\n",
    "# Esse código vai verificar o resultado\n",
    "print(drink_preferences[drink_preferences['resp_id'] == 1238])\n",
    "print()\n",
    "drink_preferences[drink_preferences.duplicated(subset='resp_id')]"
   ]
  },
  {
   "cell_type": "markdown",
   "metadata": {},
   "source": [
    "Pronto! Agora a linha 236 é a única com o id 1238, assim como o DataFrame que retornaria as duplicatas está vazio! \n",
    "\n",
    "É hora de passar para os valores ausentes."
   ]
  },
  {
   "cell_type": "markdown",
   "metadata": {},
   "source": [
    "### Valores ausentes\n",
    "\n",
    "Importante: O índice foi resetado e os dados limpos sem duplicatas foram salvos em um novo arquivo chamado `drink_pref_cleaned.csv`\n",
    "\n",
    "Algumas hipóteses quanto à razão da existência dos valores ausentes são:\n",
    "- Perguntas não respondidas pelos entrevistados\n",
    "- Entrevistado menor de 21 anos (onde 21 = idade mínima para bebidas alcoólicas), não podendo responder sobre sua preferência para bebidas alcoólicas\n",
    "- Erro na construção/exportação da base de dados"
   ]
  },
  {
   "cell_type": "code",
   "execution_count": 6,
   "metadata": {
    "scrolled": true
   },
   "outputs": [
    {
     "name": "stdout",
     "output_type": "stream",
     "text": [
      "[nan]\n"
     ]
    }
   ],
   "source": [
    "#Verificando os valores únicos em que está preenchida a coluna 'alcoholic_drink' para menores de 21 anos\n",
    "print(drink_preferences.loc[drink_preferences['age'] < 21]['alcoholic_drink'].unique())"
   ]
  },
  {
   "cell_type": "markdown",
   "metadata": {},
   "source": [
    "Existe apenas um valor único para entrevistados menores de 21 anos: NaN. Nossa teoria estava certa!"
   ]
  },
  {
   "cell_type": "markdown",
   "metadata": {},
   "source": [
    "Nós temos três tipos de valores ausentes para considerar para bebida alcoólica preferida:\n",
    "\n",
    "- Não há respostas porque o entrevistado tinha menos de 21 anos\n",
    "\n",
    "- O entrevistado tem 21 anos ou mais, mas não deu resposta por alguma razão desconhecida\n",
    "\n",
    "- A idade do entrevistado também está ausente\n",
    "\n",
    "Vamos usar dois valores representativos diferentes para preencher os dados ausentes: `'N/A'` para entrevistados com menos 21 e `'Unknown'` para entrevistados que têm 21 anos ou mais, ou entrevistados que não preencheram o valor da idade."
   ]
  },
  {
   "cell_type": "code",
   "execution_count": 7,
   "metadata": {},
   "outputs": [
    {
     "name": "stdout",
     "output_type": "stream",
     "text": [
      "<class 'pandas.core.frame.DataFrame'>\n",
      "Int64Index: 297 entries, 0 to 299\n",
      "Data columns (total 7 columns):\n",
      " #   Column              Non-Null Count  Dtype  \n",
      "---  ------              --------------  -----  \n",
      " 0   resp_id             297 non-null    int64  \n",
      " 1   age                 261 non-null    float64\n",
      " 2   gender              297 non-null    object \n",
      " 3   height              278 non-null    float64\n",
      " 4   weight              282 non-null    float64\n",
      " 5   nonalcoholic_drink  297 non-null    object \n",
      " 6   alcoholic_drink     297 non-null    object \n",
      "dtypes: float64(3), int64(1), object(3)\n",
      "memory usage: 18.6+ KB\n"
     ]
    }
   ],
   "source": [
    "#Preenchendo valores ausentes com 'N/A' e 'Unknown'\n",
    "drink_preferences.loc[drink_preferences['age'] < 21, 'alcoholic_drink'] = 'N/A'\n",
    "drink_preferences['alcoholic_drink'] = drink_preferences['alcoholic_drink'].fillna(value='Unknown')\n",
    "\n",
    "# Esse código vai verificar o resultado\n",
    "drink_preferences.info()"
   ]
  },
  {
   "cell_type": "markdown",
   "metadata": {},
   "source": [
    "Essas são 297 linhas e 297 valores não-nulos na coluna 'alcoholic_drink'. Agora, apenas nossas colunas numéricas tem valores ausentes, então vamos cuidar deles."
   ]
  },
  {
   "cell_type": "markdown",
   "metadata": {},
   "source": [
    "Vamos começar contando o número de valores numéricos ausentes para cada gênero. "
   ]
  },
  {
   "cell_type": "code",
   "execution_count": 8,
   "metadata": {
    "scrolled": true
   },
   "outputs": [
    {
     "name": "stdout",
     "output_type": "stream",
     "text": [
      "Count of missing age values by gender\n",
      "Female    20\n",
      "Male      16\n",
      "Name: gender, dtype: int64\n",
      "\n",
      "Count of missing height values by gender\n",
      "Male    19\n",
      "Name: gender, dtype: int64\n",
      "\n",
      "Count of missing weight values by gender\n",
      "Male    15\n",
      "Name: gender, dtype: int64\n"
     ]
    }
   ],
   "source": [
    "#Criando uma lista com as colunas de dados numéricos\n",
    "numeric_columns = ['age', 'height', 'weight']\n",
    "\n",
    "#Criando uma lista vazia para inserir os valores faltantes\n",
    "missing_values = []\n",
    "\n",
    "#Criando um ciclo for para 1) Filtrar os valores ausentes nas colunas numéricas e adicionar à lista missing_values os valores filtrados por gênero:\n",
    "for column in numeric_columns:\n",
    "    filtered_data = drink_preferences[drink_preferences[column].isna()]\n",
    "    missing_values.append(filtered_data['gender'].value_counts())\n",
    "\n",
    "# Esse código vai verificar o resultado\n",
    "print('Count of missing age values by gender')\n",
    "print(missing_values[0])\n",
    "print()\n",
    "print('Count of missing height values by gender')\n",
    "print(missing_values[1])\n",
    "print()\n",
    "print('Count of missing weight values by gender')\n",
    "print(missing_values[2])"
   ]
  },
  {
   "cell_type": "markdown",
   "metadata": {},
   "source": [
    "Diante desse resultado, é possível observar que temos valores ausentes para ambos os gêneros, porém, os valores de altura e peso estão ausentes apenas para os homens. Dessa forma, vamos calcular a média e mediana sobre os valores ausentes, para poder substituí-los mais tarde."
   ]
  },
  {
   "cell_type": "code",
   "execution_count": 9,
   "metadata": {},
   "outputs": [
    {
     "name": "stdout",
     "output_type": "stream",
     "text": [
      "These are the means:\n",
      "              age     height      weight\n",
      "gender                                  \n",
      "Female  27.793893  59.734437  148.594040\n",
      "Male    25.746154  69.945354  209.346031\n",
      "\n",
      "These are the medians:\n",
      "         age  height  weight\n",
      "gender                      \n",
      "Female  23.0   59.80  148.40\n",
      "Male    22.0   69.73  209.77\n"
     ]
    }
   ],
   "source": [
    "# Lista com as colunas de dados numéricos\n",
    "numeric_columns = ['age', 'height', 'weight']\n",
    "\n",
    "#Calculando a média dos valores de idade, altura e peso\n",
    "mean_values= drink_preferences.groupby('gender')[numeric_columns].mean()\n",
    "\n",
    "#Calculando a mediana dos valores de idade, altura e peso\n",
    "median_values= drink_preferences.groupby('gender')[numeric_columns].median()\n",
    "\n",
    "# Esse código vai verificar o resultado\n",
    "print('Essas são as médias:')\n",
    "print(mean_values)\n",
    "print()\n",
    "print('Essas são as medianas:')\n",
    "print(median_values)"
   ]
  },
  {
   "cell_type": "markdown",
   "metadata": {},
   "source": [
    "Analisando os dados médios e medianos, notamos que:\n",
    "- A média de altura dos homens no nosso conjunto de dados é mais ou menos 25 cm mais alto do que as mulheres, e a média de peso mais ou menos 18,1 kg mais pesado! \n",
    "- Vamos usar a média masculina para preencher os valores ausentes de altura e peso.\n",
    "- Idade é mais ou menos a mesma para ambos os gêneros, então usaremos a mediana geral de idade para preencher os valores ausentes."
   ]
  },
  {
   "cell_type": "code",
   "execution_count": 10,
   "metadata": {},
   "outputs": [
    {
     "name": "stdout",
     "output_type": "stream",
     "text": [
      "<class 'pandas.core.frame.DataFrame'>\n",
      "Int64Index: 297 entries, 0 to 299\n",
      "Data columns (total 7 columns):\n",
      " #   Column              Non-Null Count  Dtype  \n",
      "---  ------              --------------  -----  \n",
      " 0   resp_id             297 non-null    int64  \n",
      " 1   age                 297 non-null    float64\n",
      " 2   gender              297 non-null    object \n",
      " 3   height              297 non-null    float64\n",
      " 4   weight              297 non-null    float64\n",
      " 5   nonalcoholic_drink  297 non-null    object \n",
      " 6   alcoholic_drink     297 non-null    object \n",
      "dtypes: float64(3), int64(1), object(3)\n",
      "memory usage: 18.6+ KB\n"
     ]
    }
   ],
   "source": [
    "# Calculando os valores substitutos (respectivamente, mediana das idades e média da altura e peso masculino)\n",
    "median_age = drink_preferences['age'].median()\n",
    "male_mean_height = drink_preferences[drink_preferences['gender'] == 'Male']['height'].mean()\n",
    "male_mean_weight = drink_preferences[drink_preferences['gender'] == 'Male']['weight'].mean()\n",
    "\n",
    "# Preenchendo os valores ausentes\n",
    "drink_preferences['age'] = drink_preferences['age'].fillna(median_age)\n",
    "drink_preferences['height'] = drink_preferences['height'].fillna(male_mean_height)\n",
    "drink_preferences['weight'] = drink_preferences['weight'].fillna(male_mean_weight)\n",
    "\n",
    "# Verificando as informações não nulas da tabela para verificar o resultado\n",
    "drink_preferences.info()"
   ]
  },
  {
   "cell_type": "markdown",
   "metadata": {},
   "source": [
    "Prontinho! Tanto os valores ausentes quanto duplicados foram tratados!"
   ]
  },
  {
   "attachments": {},
   "cell_type": "markdown",
   "metadata": {},
   "source": [
    "# Conclusões\n",
    "\n",
    "O conjunto de dados recebido estava cheio de duplicatas e dados ausentes. \n",
    "\n",
    "Neste estudo de caso, encontrei identidades de entrevistados duplicadas e os removi de acordo com o tipo de duplicatas que eles eram. \n",
    "\n",
    "Também identifiquei valores ausentes categóricos e quantitativos, e examinei a relação com os dados para preencher esses valores.\n",
    "\n",
    "Por fim, o conjunto de dados foi tratado e está pronto para análise."
   ]
  }
 ],
 "metadata": {
  "celltoolbar": "Отсутствует",
  "colab": {
   "name": "Practicum_sandbox.ipynb",
   "provenance": []
  },
  "kernelspec": {
   "display_name": "Python 3",
   "language": "python",
   "name": "python3"
  },
  "language_info": {
   "codemirror_mode": {
    "name": "ipython",
    "version": 3
   },
   "file_extension": ".py",
   "mimetype": "text/x-python",
   "name": "python",
   "nbconvert_exporter": "python",
   "pygments_lexer": "ipython3",
   "version": "3.11.0 (main, Oct 24 2022, 18:26:48) [MSC v.1933 64 bit (AMD64)]"
  },
  "toc": {
   "base_numbering": 1,
   "nav_menu": {},
   "number_sections": true,
   "sideBar": true,
   "skip_h1_title": true,
   "title_cell": "Table of Contents",
   "title_sidebar": "Contents",
   "toc_cell": false,
   "toc_position": {},
   "toc_section_display": true,
   "toc_window_display": false
  },
  "vscode": {
   "interpreter": {
    "hash": "c6ab9d0dce7a30615a93180c9b87706d6afbe249d1f480b0a2efbf5b67ceba1d"
   }
  }
 },
 "nbformat": 4,
 "nbformat_minor": 4
}
