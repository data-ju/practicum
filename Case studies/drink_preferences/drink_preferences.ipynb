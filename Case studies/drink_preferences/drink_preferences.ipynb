{
 "cells": [
  {
   "cell_type": "markdown",
   "id": "f1f9955e",
   "metadata": {},
   "source": [
    "# Estudo de caso: Preferências de drinks\n",
    "\n",
    "O conjunto de dados deste Estudo de Caso Guiado vem de uma pesquisa realizada com adultos maiores de 18 anos. O estudo contém medidas biológicas e preferências de drinks (alcoólicos e não-alcoólicos).ipynb_checkpoints/"
   ]
  },
  {
   "cell_type": "markdown",
   "id": "37adc34b",
   "metadata": {},
   "source": [
    "As colunas são:\n",
    "\n",
    "- `'resp_id'` (número de identificação que identifica cada pessoa de forma única)\n",
    "\n",
    "- `'age'` (idade)\n",
    "\n",
    "- `'gender'` ('Male' ou 'Female')\n",
    "\n",
    "- `'height'` (em polegadas)\n",
    "\n",
    "- `'weight'` (em libras)\n",
    "\n",
    "- `'nonalcoholic_drink'` (bebida não-alcoólica favorita)\n",
    "\n",
    "- `'alcoholic_drink'` (bebida alcoólica favorita)\n",
    "\n",
    "Vamos à análise!"
   ]
  },
  {
   "cell_type": "code",
   "execution_count": null,
   "id": "3906d023",
   "metadata": {},
   "outputs": [],
   "source": [
    "#Importando a biblioteca Pandas\n",
    "import pandas as pd\n",
    "\n",
    "#Lendo a base de dados\n",
    "drink_preferences = pd.read_csv('/datasets/drink_preferences.csv')\n",
    "\n",
    "#Imprimindo as 10 primeiras linhas da base de dados\n",
    "print(drink_preferences.head(10))\n",
    "\n",
    "#Criando um espaço entre as informações\n",
    "print()\n",
    "\n",
    "#Gerando as informações gerais dos dados\n",
    "drink_preferences.info()"
   ]
  },
  {
   "cell_type": "code",
   "execution_count": null,
   "id": "021ce760",
   "metadata": {},
   "outputs": [],
   "source": []
  },
  {
   "cell_type": "code",
   "execution_count": null,
   "id": "6736c8f7",
   "metadata": {},
   "outputs": [],
   "source": []
  },
  {
   "cell_type": "code",
   "execution_count": null,
   "id": "ccd1be04",
   "metadata": {},
   "outputs": [],
   "source": []
  },
  {
   "cell_type": "code",
   "execution_count": null,
   "id": "01bd239e",
   "metadata": {},
   "outputs": [],
   "source": []
  },
  {
   "cell_type": "code",
   "execution_count": null,
   "id": "853c2e12",
   "metadata": {},
   "outputs": [],
   "source": []
  }
 ],
 "metadata": {
  "kernelspec": {
   "display_name": "Python 3 (ipykernel)",
   "language": "python",
   "name": "python3"
  },
  "language_info": {
   "codemirror_mode": {
    "name": "ipython",
    "version": 3
   },
   "file_extension": ".py",
   "mimetype": "text/x-python",
   "name": "python",
   "nbconvert_exporter": "python",
   "pygments_lexer": "ipython3",
   "version": "3.9.13"
  }
 },
 "nbformat": 4,
 "nbformat_minor": 5
}
